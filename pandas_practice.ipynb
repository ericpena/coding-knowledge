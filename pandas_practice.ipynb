{
 "cells": [
  {
   "cell_type": "code",
   "execution_count": 1,
   "metadata": {},
   "outputs": [],
   "source": [
    "import pandas as pd"
   ]
  },
  {
   "cell_type": "code",
   "execution_count": 117,
   "metadata": {},
   "outputs": [
    {
     "name": "stdout",
     "output_type": "stream",
     "text": [
      "Sample DataFrame:\n",
      "      Name  Age         City\n",
      "0    Alice   25     New York\n",
      "1      Bob   30  Los Angeles\n",
      "2  Charlie   35      Chicago\n",
      "3    David   40      Houston\n",
      "4      Eva   22      Phoenix\n"
     ]
    }
   ],
   "source": [
    "# Creating the sample DataFrame\n",
    "data = {\n",
    "    'Name': ['Alice', 'Bob', 'Charlie', 'David', 'Eva'],\n",
    "    'Age': [25, 30, 35, 40, 22],\n",
    "    'City': ['New York', 'Los Angeles', 'Chicago', 'Houston', 'Phoenix']\n",
    "}\n",
    "\n",
    "df = pd.DataFrame(data)\n",
    "\n",
    "# Display the DataFrame\n",
    "print(\"Sample DataFrame:\")\n",
    "print(df)"
   ]
  },
  {
   "cell_type": "markdown",
   "metadata": {},
   "source": [
    "## Accessing Data"
   ]
  },
  {
   "cell_type": "code",
   "execution_count": 118,
   "metadata": {},
   "outputs": [
    {
     "name": "stdout",
     "output_type": "stream",
     "text": [
      "1    Los Angeles\n",
      "Name: City, dtype: object\n",
      "1    Los Angeles\n",
      "Name: City, dtype: object\n"
     ]
    }
   ],
   "source": [
    "print(df[df['Name'] == 'Bob']['City'])\n",
    "\n",
    "print(df.loc[df['Name'] == 'Bob', 'City'])"
   ]
  },
  {
   "cell_type": "code",
   "execution_count": 119,
   "metadata": {},
   "outputs": [
    {
     "name": "stdout",
     "output_type": "stream",
     "text": [
      "Houston\n",
      "Houston\n"
     ]
    }
   ],
   "source": [
    "print(df.at[3, 'City'])\n",
    "print(df.iat[3, 2])"
   ]
  },
  {
   "cell_type": "code",
   "execution_count": 120,
   "metadata": {},
   "outputs": [
    {
     "name": "stdout",
     "output_type": "stream",
     "text": [
      "    Name  Age      City\n",
      "0  Alice   25  New York\n"
     ]
    }
   ],
   "source": [
    "print(df[(df['Age'] < 30) & (df['City'] == 'New York')])"
   ]
  },
  {
   "cell_type": "markdown",
   "metadata": {},
   "source": [
    "## Adding New Row"
   ]
  },
  {
   "cell_type": "code",
   "execution_count": 121,
   "metadata": {},
   "outputs": [
    {
     "name": "stdout",
     "output_type": "stream",
     "text": [
      "      Name  Age         City\n",
      "0    Alice   25     New York\n",
      "1      Bob   30  Los Angeles\n",
      "2  Charlie   35      Chicago\n",
      "3    David   40      Houston\n",
      "4      Eva   22      Phoenix\n",
      "5     Eric   34   Pittsburgh\n"
     ]
    }
   ],
   "source": [
    "new_row = pd.DataFrame({'Name':['Eric'], 'Age':[34], 'City':['Pittsburgh']})\n",
    "\n",
    "df = pd.concat([df, new_row], axis=0, ignore_index=True)\n",
    "\n",
    "print(df)"
   ]
  },
  {
   "cell_type": "code",
   "execution_count": 122,
   "metadata": {},
   "outputs": [
    {
     "name": "stdout",
     "output_type": "stream",
     "text": [
      "      Name  Age         City\n",
      "0    Alice   25     New York\n",
      "1      Bob   30  Los Angeles\n",
      "2  Charlie   35      Chicago\n",
      "3    David   40      Houston\n",
      "4      Eva   22      Phoenix\n",
      "5     Eric   34   Pittsburgh\n",
      "6  Richard   31    Cleveland\n"
     ]
    }
   ],
   "source": [
    "another_row = {'Name':'Richard', 'Age':31, 'City':'Cleveland'}\n",
    "df.loc[df.shape[0]] = another_row\n",
    "print(df)"
   ]
  },
  {
   "cell_type": "markdown",
   "metadata": {},
   "source": [
    "## Adding New Column"
   ]
  },
  {
   "cell_type": "code",
   "execution_count": 123,
   "metadata": {},
   "outputs": [
    {
     "name": "stdout",
     "output_type": "stream",
     "text": [
      "      Name  Age         City  Bet\n",
      "0    Alice   25     New York    7\n",
      "1      Bob   30  Los Angeles    6\n",
      "2  Charlie   35      Chicago    5\n",
      "3    David   40      Houston    4\n",
      "4      Eva   22      Phoenix    3\n",
      "5     Eric   34   Pittsburgh    2\n",
      "6  Richard   31    Cleveland    1\n"
     ]
    }
   ],
   "source": [
    "df['Bet'] = [df.shape[0] - i for i in range(df.shape[0])]\n",
    "\n",
    "print(df)"
   ]
  },
  {
   "cell_type": "markdown",
   "metadata": {},
   "source": [
    "## Remove (Drop) Columns and Rows"
   ]
  },
  {
   "cell_type": "code",
   "execution_count": 124,
   "metadata": {},
   "outputs": [
    {
     "name": "stdout",
     "output_type": "stream",
     "text": [
      "      Name  Age         City\n",
      "0    Alice   25     New York\n",
      "1      Bob   30  Los Angeles\n",
      "2  Charlie   35      Chicago\n",
      "3    David   40      Houston\n",
      "4      Eva   22      Phoenix\n",
      "5     Eric   34   Pittsburgh\n",
      "6  Richard   31    Cleveland\n"
     ]
    }
   ],
   "source": [
    "df = df.drop(columns=['Bet'])\n",
    "print(df)"
   ]
  },
  {
   "cell_type": "code",
   "execution_count": 125,
   "metadata": {},
   "outputs": [
    {
     "data": {
      "text/html": [
       "<div>\n",
       "<style scoped>\n",
       "    .dataframe tbody tr th:only-of-type {\n",
       "        vertical-align: middle;\n",
       "    }\n",
       "\n",
       "    .dataframe tbody tr th {\n",
       "        vertical-align: top;\n",
       "    }\n",
       "\n",
       "    .dataframe thead th {\n",
       "        text-align: right;\n",
       "    }\n",
       "</style>\n",
       "<table border=\"1\" class=\"dataframe\">\n",
       "  <thead>\n",
       "    <tr style=\"text-align: right;\">\n",
       "      <th></th>\n",
       "      <th>Name</th>\n",
       "      <th>Age</th>\n",
       "      <th>City</th>\n",
       "    </tr>\n",
       "  </thead>\n",
       "  <tbody>\n",
       "    <tr>\n",
       "      <th>0</th>\n",
       "      <td>Alice</td>\n",
       "      <td>25</td>\n",
       "      <td>New York</td>\n",
       "    </tr>\n",
       "    <tr>\n",
       "      <th>1</th>\n",
       "      <td>Bob</td>\n",
       "      <td>30</td>\n",
       "      <td>Los Angeles</td>\n",
       "    </tr>\n",
       "    <tr>\n",
       "      <th>2</th>\n",
       "      <td>Charlie</td>\n",
       "      <td>35</td>\n",
       "      <td>Chicago</td>\n",
       "    </tr>\n",
       "    <tr>\n",
       "      <th>3</th>\n",
       "      <td>David</td>\n",
       "      <td>40</td>\n",
       "      <td>Houston</td>\n",
       "    </tr>\n",
       "    <tr>\n",
       "      <th>4</th>\n",
       "      <td>Eva</td>\n",
       "      <td>22</td>\n",
       "      <td>Phoenix</td>\n",
       "    </tr>\n",
       "    <tr>\n",
       "      <th>6</th>\n",
       "      <td>Richard</td>\n",
       "      <td>31</td>\n",
       "      <td>Cleveland</td>\n",
       "    </tr>\n",
       "  </tbody>\n",
       "</table>\n",
       "</div>"
      ],
      "text/plain": [
       "      Name  Age         City\n",
       "0    Alice   25     New York\n",
       "1      Bob   30  Los Angeles\n",
       "2  Charlie   35      Chicago\n",
       "3    David   40      Houston\n",
       "4      Eva   22      Phoenix\n",
       "6  Richard   31    Cleveland"
      ]
     },
     "execution_count": 125,
     "metadata": {},
     "output_type": "execute_result"
    }
   ],
   "source": [
    "df.drop(index=5)"
   ]
  },
  {
   "cell_type": "code",
   "execution_count": 126,
   "metadata": {},
   "outputs": [
    {
     "name": "stdout",
     "output_type": "stream",
     "text": [
      "    Name  Age         City\n",
      "0  Alice   25     New York\n",
      "1    Bob   30  Los Angeles\n",
      "4    Eva   22      Phoenix\n"
     ]
    }
   ],
   "source": [
    "indices_to_drop = df[df['Age'] > 30].index\n",
    "df = df.drop(indices_to_drop)\n",
    "print(df)"
   ]
  },
  {
   "cell_type": "code",
   "execution_count": 127,
   "metadata": {},
   "outputs": [
    {
     "name": "stdout",
     "output_type": "stream",
     "text": [
      "    Name  Age         City\n",
      "0  Alice   25     New York\n",
      "1    Bob   30  Los Angeles\n",
      "2    Eva   22      Phoenix\n"
     ]
    }
   ],
   "source": [
    "df = df.reset_index(drop=True)\n",
    "print(df)"
   ]
  },
  {
   "cell_type": "markdown",
   "metadata": {},
   "source": [
    "## Modify Data"
   ]
  },
  {
   "cell_type": "code",
   "execution_count": 128,
   "metadata": {},
   "outputs": [
    {
     "name": "stdout",
     "output_type": "stream",
     "text": [
      "    Name  Age         City\n",
      "0  Alice   25     New York\n",
      "1    Bob   30  Los Angeles\n",
      "2    Eva   22   Saint Paul\n"
     ]
    }
   ],
   "source": [
    "df.loc[df['Name'] == 'Eva', 'City'] = 'Saint Paul'\n",
    "print(df)"
   ]
  },
  {
   "cell_type": "markdown",
   "metadata": {},
   "source": [
    "## Practice\n",
    "Write a function add_person that takes a DataFrame, a person's name, age, and city, and returns a new DataFrame with the person's details added as a new row. Ensure that your function uses pd.concat() for adding the new row. Also, after adding the new row, sort the DataFrame by the 'Age' column in ascending order and reset the index."
   ]
  },
  {
   "cell_type": "code",
   "execution_count": 129,
   "metadata": {},
   "outputs": [
    {
     "name": "stdout",
     "output_type": "stream",
     "text": [
      "    Name  Age         City\n",
      "0    Eva   22   Saint Paul\n",
      "1  Alice   25     New York\n",
      "2    Bob   30  Los Angeles\n",
      "3   Pena   34   Pittsburgh\n"
     ]
    }
   ],
   "source": [
    "def add_person(df, name, age, city):\n",
    "\n",
    "    new_row = pd.DataFrame({'Name':[name], 'Age':[age], 'City':[city]})\n",
    "    df = pd.concat([df, new_row], ignore_index=True, axis=0)\n",
    "    df = df.sort_values(by=['Age'], ascending=True).reset_index(drop=True)\n",
    "    return df\n",
    "\n",
    "print(add_person(df, 'Pena', 34, 'Pittsburgh'))"
   ]
  },
  {
   "cell_type": "code",
   "execution_count": 130,
   "metadata": {},
   "outputs": [
    {
     "name": "stdout",
     "output_type": "stream",
     "text": [
      "     Name  Age         City\n",
      "0  Carlos   20   Pittsburgh\n",
      "1     Eva   22   Saint Paul\n",
      "2   Alice   25     New York\n",
      "3     Bob   30  Los Angeles\n"
     ]
    }
   ],
   "source": [
    "print(add_person(df, 'Carlos', 20, 'Pittsburgh')) "
   ]
  },
  {
   "cell_type": "markdown",
   "metadata": {},
   "source": [
    "## Practice\n",
    "Write a function filter_by_city_and_age that takes a DataFrame, a city name, and an age limit, and returns a new DataFrame containing only the rows where the 'City' matches the given city name and the 'Age' is greater than the given age limit. The resulting DataFrame should only include the 'Name' and 'Age' columns."
   ]
  },
  {
   "cell_type": "code",
   "execution_count": 131,
   "metadata": {},
   "outputs": [],
   "source": [
    "def filter_by_city_and_age(df, city, age_lim):\n",
    "    return df[(df['City'] == city) & (df['Age'] > age_lim)][['Name', 'Age']].reset_index(drop=True)"
   ]
  },
  {
   "cell_type": "code",
   "execution_count": 132,
   "metadata": {},
   "outputs": [
    {
     "name": "stdout",
     "output_type": "stream",
     "text": [
      "      Name  Age\n",
      "0  Charlie   35\n",
      "1    David   40\n"
     ]
    }
   ],
   "source": [
    "data = {\n",
    "    'Name': ['Alice', 'Bob', 'Charlie', 'David', 'Eva'],\n",
    "    'Age': [25, 30, 35, 40, 22],\n",
    "    'City': ['New York', 'Los Angeles', 'Chicago', 'Chicago', 'Chicago']\n",
    "}\n",
    "df2 = pd.DataFrame(data)\n",
    "\n",
    "print(filter_by_city_and_age(df2, 'Chicago', 30))"
   ]
  },
  {
   "cell_type": "markdown",
   "metadata": {},
   "source": [
    "## Practice\n",
    "Write a function compute_statistics that takes a DataFrame and a city name, and returns a dictionary containing the following statistics for the people in the specified city:\n",
    "\n",
    "1. The average age.\n",
    "2. The average salary.\n",
    "3. The name(s) of the person(s) with the highest salary in that city."
   ]
  },
  {
   "cell_type": "code",
   "execution_count": 133,
   "metadata": {},
   "outputs": [],
   "source": [
    "def compute_statistics(df, city) -> dict:\n",
    "\n",
    "    return {'average_age' : df.loc[df['City'] == city, 'Age'].mean(),\n",
    "            'average_salary' : df.loc[df['City'] == city, 'Salary'].mean(),\n",
    "            'top_earners' : list(df[(df['City'] == city) & (df['Salary'] == max(df['Salary']))]['Name'])}"
   ]
  },
  {
   "cell_type": "markdown",
   "metadata": {},
   "source": [
    "Could also be written as:"
   ]
  },
  {
   "cell_type": "code",
   "execution_count": 134,
   "metadata": {},
   "outputs": [],
   "source": [
    "def compute_statistics(df, city):\n",
    "    # Filter the DataFrame for the specified city\n",
    "    city_df = df[df['City'] == city]\n",
    "    \n",
    "    # Compute the average age and average salary\n",
    "    avg_age = city_df['Age'].mean()\n",
    "    avg_salary = city_df['Salary'].mean()\n",
    "    \n",
    "    # Find the highest salary and the name(s) of the person(s) with the highest salary\n",
    "    max_salary = city_df['Salary'].max()\n",
    "    top_earners = city_df[city_df['Salary'] == max_salary]['Name'].tolist()\n",
    "    \n",
    "    # Return the statistics as a dictionary\n",
    "    return {\n",
    "        'average_age': avg_age,\n",
    "        'average_salary': avg_salary,\n",
    "        'top_earners': top_earners\n",
    "    }"
   ]
  },
  {
   "cell_type": "code",
   "execution_count": 135,
   "metadata": {},
   "outputs": [
    {
     "name": "stdout",
     "output_type": "stream",
     "text": [
      "{'average_age': 32.5, 'average_salary': 97500.0, 'top_earners': ['Charlie', 'David']}\n"
     ]
    }
   ],
   "source": [
    "# Creating the sample DataFrame\n",
    "data = {\n",
    "    'Name': ['Alice', 'Bob', 'Charlie', 'David', 'Eva'],\n",
    "    'Age': [25, 30, 35, 40, 22],\n",
    "    'City': ['Chicago', 'Chicago', 'Chicago', 'Chicago', 'Phoenix'],\n",
    "    'Salary': [70000, 80000, 120000, 120000, 85000]\n",
    "}\n",
    "\n",
    "df3 = pd.DataFrame(data)\n",
    "\n",
    "print(compute_statistics(df3, 'Chicago'))"
   ]
  },
  {
   "cell_type": "markdown",
   "metadata": {},
   "source": [
    "## Practice\n",
    "Write a function department_salary_summary that takes a DataFrame and returns a new DataFrame containing the following information for each department:\n",
    "\n",
    "1. The total number of employees in the department.\n",
    "2. The average salary in the department.\n",
    "3. The minimum and maximum salaries in the department.\n",
    "\n",
    "The resulting DataFrame should have the department names as the index and the columns named Total_Employees, Average_Salary, Min_Salary, and Max_Salary."
   ]
  },
  {
   "cell_type": "code",
   "execution_count": 159,
   "metadata": {},
   "outputs": [],
   "source": [
    "def department_salary_summary(df) -> pd.DataFrame:\n",
    "\n",
    "    return df.groupby(by=['Department']).agg(\n",
    "        Total_Employees=('Name', 'count'),\n",
    "        Average_Salary=('Salary', 'mean'),\n",
    "        Min_Salary=('Salary', 'min'),\n",
    "        Max_Salary=('Salary', 'max')\n",
    "    ).reset_index()"
   ]
  },
  {
   "cell_type": "code",
   "execution_count": 160,
   "metadata": {},
   "outputs": [
    {
     "name": "stdout",
     "output_type": "stream",
     "text": [
      "    Department  Total_Employees  Average_Salary  Min_Salary  Max_Salary\n",
      "0  Engineering                5         94000.0       70000      120000\n",
      "1           HR                5         76400.0       62000       90000\n"
     ]
    }
   ],
   "source": [
    "# Creating the sample DataFrame\n",
    "data = {\n",
    "    'Name': ['Alice', 'Bob', 'Charlie', 'David', 'Eva', 'Frank', 'Grace', 'Hannah', 'Ivy', 'Jack'],\n",
    "    'Age': [25, 30, 35, 40, 22, 28, 33, 26, 24, 29],\n",
    "    'City': ['New York', 'Los Angeles', 'Chicago', 'Houston', 'Phoenix', 'San Francisco', 'New York', 'Chicago', 'Houston', 'Los Angeles'],\n",
    "    'Salary': [70000, 80000, 120000, 90000, 85000, 95000, 75000, 105000, 62000, 70000],\n",
    "    'Department': ['HR', 'Engineering', 'Engineering', 'HR', 'HR', 'Engineering', 'HR', 'Engineering', 'HR', 'Engineering']\n",
    "}\n",
    "\n",
    "df4 = pd.DataFrame(data)\n",
    "\n",
    "print(department_salary_summary(df4))"
   ]
  },
  {
   "cell_type": "markdown",
   "metadata": {},
   "source": [
    "## Practice\n",
    "Write a function tenure_and_salary_increase that takes a DataFrame and performs the following operations:\n",
    "\n",
    "1. Calculate the tenure (in years) of each employee based on the JoiningDate column.\n",
    "2. Create a new column Tenure in the DataFrame to store the calculated tenure.\n",
    "3. Classify employees into three categories based on their tenure: \"Junior\" (<2 years), \"Mid-level\" (2-5 years), and \"Senior\" (>5 years).\n",
    "3. For \"Senior\" employees, increase their salary by 10% and update the Salary column accordingly.\n",
    "5. Return the updated DataFrame."
   ]
  },
  {
   "cell_type": "code",
   "execution_count": 169,
   "metadata": {},
   "outputs": [],
   "source": [
    "def tenure_and_salary_increase(df) -> pd.DataFrame:\n",
    "\n",
    "    current_date = pd.to_datetime('today')\n",
    "    df['Tenure'] = (current_date - df['JoiningDate']).dt.days / 365\n",
    "\n",
    "    # :: maybe some function that will take a column value and return a string\n",
    "    def category(y):\n",
    "        if y < 2:\n",
    "            return 'Junior'\n",
    "        elif y <= 5:\n",
    "            return 'Mid-level'\n",
    "        else:\n",
    "            return 'Senior'\n",
    "        \n",
    "    df['Level'] = df['Tenure'].apply(category)\n",
    "\n",
    "    df.loc[df['Level'] == 'Senior', 'Salary'] *= 1.1\n",
    "\n",
    "    return df"
   ]
  },
  {
   "cell_type": "code",
   "execution_count": 178,
   "metadata": {},
   "outputs": [
    {
     "name": "stdout",
     "output_type": "stream",
     "text": [
      "   EmployeeID     Name  Age           City    Salary   Department JoiningDate  \\\n",
      "0           1    Alice   25       New York   70000.0           HR  2020-01-15   \n",
      "1           2      Bob   30    Los Angeles   88000.0  Engineering  2019-02-20   \n",
      "2           3  Charlie   35        Chicago  132000.0  Engineering  2018-03-30   \n",
      "3           4    David   40        Houston   99000.0           HR  2017-04-25   \n",
      "4           5      Eva   22        Phoenix   85000.0           HR  2021-05-10   \n",
      "5           6    Frank   28  San Francisco  104500.0  Engineering  2016-06-15   \n",
      "6           7    Grace   33       New York   82500.0           HR  2015-07-20   \n",
      "7           8   Hannah   26        Chicago  115500.0  Engineering  2014-08-25   \n",
      "8           9      Ivy   24        Houston   68200.0           HR  2013-09-30   \n",
      "9          10     Jack   29    Los Angeles   70000.0  Engineering  2022-10-05   \n",
      "\n",
      "      Tenure      Level  \n",
      "0   4.416438  Mid-level  \n",
      "1   5.317808     Senior  \n",
      "2   6.213699     Senior  \n",
      "3   7.142466     Senior  \n",
      "4   3.098630  Mid-level  \n",
      "5   8.002740     Senior  \n",
      "6   8.909589     Senior  \n",
      "7   9.810959     Senior  \n",
      "8  10.712329     Senior  \n",
      "9   1.693151     Junior  \n"
     ]
    }
   ],
   "source": [
    "# Creating the sample DataFrame\n",
    "data = {\n",
    "    'EmployeeID': [1, 2, 3, 4, 5, 6, 7, 8, 9, 10],\n",
    "    'Name': ['Alice', 'Bob', 'Charlie', 'David', 'Eva', 'Frank', 'Grace', 'Hannah', 'Ivy', 'Jack'],\n",
    "    'Age': [25, 30, 35, 40, 22, 28, 33, 26, 24, 29],\n",
    "    'City': ['New York', 'Los Angeles', 'Chicago', 'Houston', 'Phoenix', 'San Francisco', 'New York', 'Chicago', 'Houston', 'Los Angeles'],\n",
    "    'Salary': [70000, 80000, 120000, 90000, 85000, 95000, 75000, 105000, 62000, 70000],\n",
    "    'Department': ['HR', 'Engineering', 'Engineering', 'HR', 'HR', 'Engineering', 'HR', 'Engineering', 'HR', 'Engineering'],\n",
    "    'JoiningDate': ['2020-01-15', '2019-02-20', '2018-03-30', '2017-04-25', '2021-05-10', '2016-06-15', '2015-07-20', '2014-08-25', '2013-09-30', '2022-10-05']\n",
    "}\n",
    "\n",
    "df5 = pd.DataFrame(data)\n",
    "df5['JoiningDate'] = pd.to_datetime(df5['JoiningDate'])\n",
    "\n",
    "print(tenure_and_salary_increase(df5))"
   ]
  },
  {
   "cell_type": "markdown",
   "metadata": {},
   "source": [
    "Another way to write this that may be a bit cleaner is:"
   ]
  },
  {
   "cell_type": "code",
   "execution_count": 187,
   "metadata": {},
   "outputs": [
    {
     "name": "stdout",
     "output_type": "stream",
     "text": [
      "   EmployeeID     Name  Age           City    Salary   Department JoiningDate  \\\n",
      "0           1    Alice   25       New York   70000.0           HR  2020-01-15   \n",
      "1           2      Bob   30    Los Angeles   88000.0  Engineering  2019-02-20   \n",
      "2           3  Charlie   35        Chicago  132000.0  Engineering  2018-03-30   \n",
      "3           4    David   40        Houston   90000.0           HR  2022-06-15   \n",
      "4           5      Eva   22        Phoenix   85000.0           HR  2021-05-10   \n",
      "5           6    Frank   28  San Francisco  104500.0  Engineering  2016-06-15   \n",
      "6           7    Grace   33       New York   82500.0           HR  2015-07-20   \n",
      "7           8   Hannah   26        Chicago  115500.0  Engineering  2014-08-25   \n",
      "8           9      Ivy   24        Houston   68200.0           HR  2013-09-30   \n",
      "9          10     Jack   29    Los Angeles   70000.0  Engineering  2022-10-05   \n",
      "\n",
      "      Tenure      Level  \n",
      "0   4.416438  Mid-level  \n",
      "1   5.317808     Senior  \n",
      "2   6.213699     Senior  \n",
      "3   2.000000     Junior  \n",
      "4   3.098630  Mid-level  \n",
      "5   8.002740     Senior  \n",
      "6   8.909589     Senior  \n",
      "7   9.810959     Senior  \n",
      "8  10.712329     Senior  \n",
      "9   1.693151     Junior  \n"
     ]
    }
   ],
   "source": [
    "# Creating the sample DataFrame\n",
    "data = {\n",
    "    'EmployeeID': [1, 2, 3, 4, 5, 6, 7, 8, 9, 10],\n",
    "    'Name': ['Alice', 'Bob', 'Charlie', 'David', 'Eva', 'Frank', 'Grace', 'Hannah', 'Ivy', 'Jack'],\n",
    "    'Age': [25, 30, 35, 40, 22, 28, 33, 26, 24, 29],\n",
    "    'City': ['New York', 'Los Angeles', 'Chicago', 'Houston', 'Phoenix', 'San Francisco', 'New York', 'Chicago', 'Houston', 'Los Angeles'],\n",
    "    'Salary': [70000, 80000, 120000, 90000, 85000, 95000, 75000, 105000, 62000, 70000],\n",
    "    'Department': ['HR', 'Engineering', 'Engineering', 'HR', 'HR', 'Engineering', 'HR', 'Engineering', 'HR', 'Engineering'],\n",
    "    'JoiningDate': ['2020-01-15', '2019-02-20', '2018-03-30', '2022-06-15', '2021-05-10', '2016-06-15', '2015-07-20', '2014-08-25', '2013-09-30', '2022-10-05']\n",
    "}\n",
    "\n",
    "df5 = pd.DataFrame(data)\n",
    "df5['JoiningDate'] = pd.to_datetime(df5['JoiningDate'])\n",
    "\n",
    "def tenure_and_salary_increase(df):\n",
    "    # Calculate the tenure in years\n",
    "    current_date = pd.to_datetime('today')\n",
    "    df['Tenure'] = (current_date - df['JoiningDate']).dt.days / 365\n",
    "    \n",
    "    # Classify employees based on tenure\n",
    "    df['Level'] = pd.cut(df['Tenure'], bins=[-float('inf'), 2, 5, float('inf')], labels=['Junior', 'Mid-level', 'Senior'])\n",
    "    \n",
    "    # Increase the salary of \"Senior\" employees by 10%\n",
    "    df.loc[df['Level'] == 'Senior', 'Salary'] *= 1.10\n",
    "    \n",
    "    return df\n",
    "\n",
    "# Example usage\n",
    "updated_df = tenure_and_salary_increase(df5)\n",
    "print(updated_df)"
   ]
  },
  {
   "cell_type": "markdown",
   "metadata": {},
   "source": [
    "## Using `pd.cut`"
   ]
  },
  {
   "cell_type": "markdown",
   "metadata": {},
   "source": [
    "1. Equal-width Bins: If you want to divide the data into bins of equal width, you can specify the number of bins."
   ]
  },
  {
   "cell_type": "code",
   "execution_count": 180,
   "metadata": {},
   "outputs": [
    {
     "name": "stdout",
     "output_type": "stream",
     "text": [
      "[(0.991, 4.0], (4.0, 7.0], (4.0, 7.0], (0.991, 4.0], (4.0, 7.0], (0.991, 4.0], (0.991, 4.0], (7.0, 10.0], (7.0, 10.0], (7.0, 10.0]]\n",
      "Categories (3, interval[float64, right]): [(0.991, 4.0] < (4.0, 7.0] < (7.0, 10.0]]\n"
     ]
    }
   ],
   "source": [
    "data = [1, 7, 5, 4, 6, 3, 2, 8, 9, 10]\n",
    "bins = 3\n",
    "categorized_data = pd.cut(data, bins)\n",
    "print(categorized_data)"
   ]
  },
  {
   "cell_type": "markdown",
   "metadata": {},
   "source": [
    "2. Custom Bin Edges: You can define your own bin edges to categorize the data."
   ]
  },
  {
   "cell_type": "code",
   "execution_count": 181,
   "metadata": {},
   "outputs": [
    {
     "name": "stdout",
     "output_type": "stream",
     "text": [
      "[(0, 3], (6, 9], (3, 6], (3, 6], (3, 6], (0, 3], (0, 3], (6, 9], (6, 9], (9, 12]]\n",
      "Categories (4, interval[int64, right]): [(0, 3] < (3, 6] < (6, 9] < (9, 12]]\n"
     ]
    }
   ],
   "source": [
    "bins = [0, 3, 6, 9, 12]\n",
    "categorized_data = pd.cut(data, bins)\n",
    "print(categorized_data)"
   ]
  },
  {
   "cell_type": "markdown",
   "metadata": {},
   "source": [
    "3. Labels for Bins: You can provide labels for each bin."
   ]
  },
  {
   "cell_type": "code",
   "execution_count": 182,
   "metadata": {},
   "outputs": [
    {
     "name": "stdout",
     "output_type": "stream",
     "text": [
      "['Low', 'High', 'Medium', 'Medium', 'Medium', 'Low', 'Low', 'High', 'High', 'Very High']\n",
      "Categories (4, object): ['Low' < 'Medium' < 'High' < 'Very High']\n"
     ]
    }
   ],
   "source": [
    "labels = ['Low', 'Medium', 'High', 'Very High']\n",
    "categorized_data = pd.cut(data, bins, labels=labels)\n",
    "print(categorized_data)"
   ]
  },
  {
   "cell_type": "markdown",
   "metadata": {},
   "source": [
    "4. Customizing Inclusion: If you want the bins to be left-inclusive (i.e., the left edge is included in the bin), you can adjust the right parameter in pd.cut:"
   ]
  },
  {
   "cell_type": "code",
   "execution_count": null,
   "metadata": {},
   "outputs": [],
   "source": [
    "# Left-inclusive bins\n",
    "df['Level'] = pd.cut(df['Tenure'], bins=[-float('inf'), 2, 5, float('inf')], labels=['Junior', 'Mid-level', 'Senior'], right=False)"
   ]
  },
  {
   "cell_type": "markdown",
   "metadata": {},
   "source": [
    "## Iterating through DataFrame"
   ]
  },
  {
   "cell_type": "code",
   "execution_count": null,
   "metadata": {},
   "outputs": [],
   "source": [
    "def find_customers(customers: pd.DataFrame, orders: pd.DataFrame) -> pd.DataFrame:\n",
    "    buying_customers = list(orders['customerId'].drop_duplicates())\n",
    "    return pd.DataFrame({'Customers': [customers.loc[i, 'name'] for i in range(customers.shape[0]) if customers.loc[i, 'id'] not in buying_customers]})\n",
    "\n",
    "def find_customers(customers: pd.DataFrame, orders: pd.DataFrame) -> pd.DataFrame:\n",
    "    df = pd.merge(customers, orders, how='left', left_on='id', right_on='customerId')\n",
    "    return df[df['customerId'].isna()][['name']].rename(columns={'name':'Customers'})\n",
    "\n",
    "def find_customers(customers: pd.DataFrame, orders: pd.DataFrame) -> pd.DataFrame:\n",
    "    return customers[~customers.id.isin(orders.customerId)][['name']].rename(columns={'name':'Customers'})"
   ]
  }
 ],
 "metadata": {
  "kernelspec": {
   "display_name": "ca",
   "language": "python",
   "name": "python3"
  },
  "language_info": {
   "codemirror_mode": {
    "name": "ipython",
    "version": 3
   },
   "file_extension": ".py",
   "mimetype": "text/x-python",
   "name": "python",
   "nbconvert_exporter": "python",
   "pygments_lexer": "ipython3",
   "version": "3.1.-1"
  }
 },
 "nbformat": 4,
 "nbformat_minor": 2
}
