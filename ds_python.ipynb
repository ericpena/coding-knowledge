{
 "cells": [
  {
   "cell_type": "markdown",
   "metadata": {},
   "source": [
    "Write a function called min_inequity which takes in a list of salaries, and a value n, and returns the minimum inequity possible when taking n salaries from the full salary list."
   ]
  },
  {
   "cell_type": "code",
   "execution_count": null,
   "metadata": {},
   "outputs": [],
   "source": [
    "import itertools\n",
    "\n",
    "def min_inequity(salaries, n):\n",
    "  # :: iterate through different permutations\n",
    "  min_ineq = float('inf')\n",
    "  for c in itertools.combinations(salaries, n):\n",
    "    ineq = max(c) - min(c)\n",
    "    min_ineq = ineq if ineq < min_ineq else min_ineq\n",
    "  return min_ineq\n",
    "\n",
    "def min_inequity(salaries, n):\n",
    "  salaries.sort()\n",
    "  min_ineq = salaries[-1]\n",
    "  for i in range(len(salaries) - n + 1):\n",
    "    ineq = salaries[i + n - 1] - salaries[i]\n",
    "    min_ineq = ineq if ineq < min_ineq else min_ineq\n",
    "  return min_ineq"
   ]
  }
 ],
 "metadata": {
  "kernelspec": {
   "display_name": "ca",
   "language": "python",
   "name": "python3"
  },
  "language_info": {
   "name": "python",
   "version": "3.1.-1"
  }
 },
 "nbformat": 4,
 "nbformat_minor": 2
}
