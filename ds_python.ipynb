{
 "cells": [
  {
   "cell_type": "markdown",
   "metadata": {},
   "source": [
    "Write a function called min_inequity which takes in a list of salaries, and a value n, and returns the minimum inequity possible when taking n salaries from the full salary list."
   ]
  },
  {
   "cell_type": "code",
   "execution_count": null,
   "metadata": {},
   "outputs": [],
   "source": [
    "import itertools\n",
    "\n",
    "def min_inequity(salaries, n):\n",
    "  # :: iterate through different permutations\n",
    "  min_ineq = float('inf')\n",
    "  for c in itertools.combinations(salaries, n):\n",
    "    ineq = max(c) - min(c)\n",
    "    min_ineq = ineq if ineq < min_ineq else min_ineq\n",
    "  return min_ineq\n",
    "\n",
    "def min_inequity(salaries, n):\n",
    "  salaries.sort()\n",
    "  min_ineq = salaries[-1]\n",
    "  for i in range(len(salaries) - n + 1):\n",
    "    ineq = salaries[i + n - 1] - salaries[i]\n",
    "    min_ineq = ineq if ineq < min_ineq else min_ineq\n",
    "  return min_ineq"
   ]
  },
  {
   "cell_type": "markdown",
   "metadata": {},
   "source": [
    "Given an list of integers called input, return True if any value appears at least twice in the array. Return False if every element in the input list is distinct."
   ]
  },
  {
   "cell_type": "code",
   "execution_count": null,
   "metadata": {},
   "outputs": [],
   "source": [
    "def contains_duplicate(input)-> bool:\n",
    "  return len(input) != len(list(set(input)))\n",
    "\n",
    "from collections import Counter\n",
    "def contains_duplicate(input)-> bool:\n",
    "  for k, v in Counter(input).items():\n",
    "    if v != 1:\n",
    "      return True\n",
    "  return False\n",
    "\n",
    "def contains_duplicate(input)-> bool:\n",
    "  seen = {}\n",
    "  for i in input:\n",
    "    if i in seen:\n",
    "      return True\n",
    "    seen[i] = -1\n",
    "  return False"
   ]
  },
  {
   "cell_type": "markdown",
   "metadata": {},
   "source": [
    "Given an input list containing n distinct numbers in the range 0 to n, return the only number in the range that is missing from the list."
   ]
  },
  {
   "cell_type": "code",
   "execution_count": null,
   "metadata": {},
   "outputs": [],
   "source": [
    "def missing_int(input: list[int])-> int:\n",
    "  \n",
    "  # :: assuming we're guaranteed that one is missing\n",
    "  for i in range(len(input) + 1):\n",
    "    if i in input:\n",
    "      continue\n",
    "    else:\n",
    "      return i\n",
    "\n",
    "def missing_int(input: list[int])-> int:\n",
    "  input_set = set(input)\n",
    "  for i in range(len(input) + 1):\n",
    "    if i in input:\n",
    "      continue\n",
    "    else:\n",
    "      return i\n",
    "\n",
    "def missing_int(input: list[int])-> int:      \n",
    "  n = len(input)\n",
    "  s = n*(n+1) / 2\n",
    "  return s - sum(input)"
   ]
  },
  {
   "cell_type": "markdown",
   "metadata": {},
   "source": [
    "Given an list of integers called input, and an integer target, return the index of the two numbers which sum up to the target. Do not use the same list element twice.\n",
    "\n",
    "Clarifications:\n",
    "* Assume there aren't multiple valid solutions.\n",
    "* In case there is no valid solution, return [-1, -1].\n",
    "* Return the indexes in increasing order (i.e. [1,3], NOT [3,1])."
   ]
  },
  {
   "cell_type": "code",
   "execution_count": null,
   "metadata": {},
   "outputs": [],
   "source": [
    "def two_sum(input: list[int], target: int) -> list[int]:\n",
    "  \n",
    "  # :: a + b = TARGET\n",
    "  # :: a = TARGET - b\n",
    "  for i in range(len(input)-1):\n",
    "    if (target - input[i]) in input[:i]+input[(i+1):]:\n",
    "      return [input.index(input[i]), input.index(target - input[i])]\n",
    "  \n",
    "  return [-1, -1]\n",
    "\n",
    "def two_sum(input: list[int], target) -> list[int]:\n",
    "  d = {}\n",
    "  for i in range(len(input)):\n",
    "    cur_value = input[i]\n",
    "    complement = target - cur_value\n",
    "    if complement in d:\n",
    "      return [d[complement], i]\n",
    "    d[cur_value] = i\n",
    "  \n",
    "  return [-1, -1]"
   ]
  },
  {
   "cell_type": "markdown",
   "metadata": {},
   "source": [
    "To improve our runtime complexity, we can iterate over the list, and then use a dictionary to quickly see if an element's complement was already seen. By complement, we mean the target - current element.\n",
    "\n",
    "If the dictionary says we've seen the complement already, we return the index of the current element and the complement's index.\n",
    "\n",
    "This code is more efficient, because in Python, dictionaries are implemented as hash tables, which provide efficient key-value lookups. The run-time performance of dictionary retrieval has an average-case time complexity of O(1), which means that the time it takes to retrieve a value from a dictionary is roughly constant and does not depend on the number of items (key-value pairs) in the dictionary."
   ]
  }
 ],
 "metadata": {
  "kernelspec": {
   "display_name": "ca",
   "language": "python",
   "name": "python3"
  },
  "language_info": {
   "name": "python",
   "version": "3.1.-1"
  }
 },
 "nbformat": 4,
 "nbformat_minor": 2
}
