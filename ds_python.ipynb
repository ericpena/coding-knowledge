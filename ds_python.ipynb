{
 "cells": [
  {
   "cell_type": "markdown",
   "metadata": {},
   "source": [
    "Write a function called min_inequity which takes in a list of salaries, and a value n, and returns the minimum inequity possible when taking n salaries from the full salary list."
   ]
  },
  {
   "cell_type": "code",
   "execution_count": null,
   "metadata": {},
   "outputs": [],
   "source": [
    "import itertools\n",
    "\n",
    "def min_inequity(salaries, n):\n",
    "  # :: iterate through different permutations\n",
    "  min_ineq = float('inf')\n",
    "  for c in itertools.combinations(salaries, n):\n",
    "    ineq = max(c) - min(c)\n",
    "    min_ineq = ineq if ineq < min_ineq else min_ineq\n",
    "  return min_ineq\n",
    "\n",
    "def min_inequity(salaries, n):\n",
    "  salaries.sort()\n",
    "  min_ineq = salaries[-1]\n",
    "  for i in range(len(salaries) - n + 1):\n",
    "    ineq = salaries[i + n - 1] - salaries[i]\n",
    "    min_ineq = ineq if ineq < min_ineq else min_ineq\n",
    "  return min_ineq"
   ]
  },
  {
   "cell_type": "markdown",
   "metadata": {},
   "source": [
    "Given an list of integers called input, return True if any value appears at least twice in the array. Return False if every element in the input list is distinct."
   ]
  },
  {
   "cell_type": "code",
   "execution_count": null,
   "metadata": {},
   "outputs": [],
   "source": [
    "def contains_duplicate(input)-> bool:\n",
    "  return len(input) != len(list(set(input)))\n",
    "\n",
    "from collections import Counter\n",
    "def contains_duplicate(input)-> bool:\n",
    "  for k, v in Counter(input).items():\n",
    "    if v != 1:\n",
    "      return True\n",
    "  return False\n",
    "\n",
    "def contains_duplicate(input)-> bool:\n",
    "  seen = {}\n",
    "  for i in input:\n",
    "    if i in seen:\n",
    "      return True\n",
    "    seen[i] = -1\n",
    "  return False"
   ]
  },
  {
   "cell_type": "markdown",
   "metadata": {},
   "source": [
    "Given an input list containing n distinct numbers in the range 0 to n, return the only number in the range that is missing from the list."
   ]
  },
  {
   "cell_type": "code",
   "execution_count": null,
   "metadata": {},
   "outputs": [],
   "source": [
    "def missing_int(input: list[int])-> int:\n",
    "  \n",
    "  # :: assuming we're guaranteed that one is missing\n",
    "  for i in range(len(input) + 1):\n",
    "    if i in input:\n",
    "      continue\n",
    "    else:\n",
    "      return i\n",
    "\n",
    "def missing_int(input: list[int])-> int:\n",
    "  input_set = set(input)\n",
    "  for i in range(len(input) + 1):\n",
    "    if i in input:\n",
    "      continue\n",
    "    else:\n",
    "      return i\n",
    "\n",
    "def missing_int(input: list[int])-> int:      \n",
    "  n = len(input)\n",
    "  s = n*(n+1) / 2\n",
    "  return s - sum(input)"
   ]
  },
  {
   "cell_type": "markdown",
   "metadata": {},
   "source": [
    "Given an list of integers called input, and an integer target, return the index of the two numbers which sum up to the target. Do not use the same list element twice.\n",
    "\n",
    "Clarifications:\n",
    "* Assume there aren't multiple valid solutions.\n",
    "* In case there is no valid solution, return [-1, -1].\n",
    "* Return the indexes in increasing order (i.e. [1,3], NOT [3,1]).\n",
    "\n",
    "To improve our runtime complexity, we can iterate over the list, and then use a dictionary to quickly see if an element's complement was already seen. By complement, we mean the target - current element.\n",
    "\n",
    "If the dictionary says we've seen the complement already, we return the index of the current element and the complement's index.\n",
    "\n",
    "This code is more efficient, because in Python, dictionaries are implemented as hash tables, which provide efficient key-value lookups. The run-time performance of dictionary retrieval has an average-case time complexity of O(1), which means that the time it takes to retrieve a value from a dictionary is roughly constant and does not depend on the number of items (key-value pairs) in the dictionary."
   ]
  },
  {
   "cell_type": "code",
   "execution_count": null,
   "metadata": {},
   "outputs": [],
   "source": [
    "def two_sum(input: list[int], target: int) -> list[int]:\n",
    "  \n",
    "  # :: a + b = TARGET\n",
    "  # :: a = TARGET - b\n",
    "  for i in range(len(input)-1):\n",
    "    if (target - input[i]) in input[:i]+input[(i+1):]:\n",
    "      return [input.index(input[i]), input.index(target - input[i])]\n",
    "  \n",
    "  return [-1, -1]\n",
    "\n",
    "def two_sum(input: list[int], target) -> list[int]:\n",
    "  d = {}\n",
    "  for i in range(len(input)):\n",
    "    cur_value = input[i]\n",
    "    complement = target - cur_value\n",
    "    if complement in d:\n",
    "      return [d[complement], i]\n",
    "    d[cur_value] = i\n",
    "  \n",
    "  return [-1, -1]"
   ]
  },
  {
   "cell_type": "markdown",
   "metadata": {},
   "source": [
    "You are given an integer array height of length n. There are n vertical lines drawn such that the two endpoints of the ith line are (i, 0) and (i, height[i]).\n",
    "\n",
    "Find two lines that together with the x-axis form a container, such that the container contains the most water.\n",
    "\n",
    "Return the maximum amount of water a container can store.\n",
    "\n",
    "Notice that you may not slant the container."
   ]
  },
  {
   "cell_type": "code",
   "execution_count": null,
   "metadata": {},
   "outputs": [],
   "source": [
    "# :: bad brute force solution (doesn't scale)\n",
    "def maxArea(self, height: List[int]) -> int:\n",
    "    max_area = 0\n",
    "    for i in range(len(height) - 1):\n",
    "        for j in range(i+1, len(height)):\n",
    "            area = (j - i) * min(height[i], height[j])\n",
    "            max_area = max(area, max_area)\n",
    "    return max_area\n",
    "\n",
    "# :: more efficient with shifting rules based on height conditions\n",
    "def maxArea(self, height: List[int]) -> int:\n",
    "    max_area = 0\n",
    "    left = 0\n",
    "    right = len(height) - 1\n",
    "    while left < right:\n",
    "        max_area = max(max_area, (right - left) * min(height[left], height[right]))\n",
    "        if height[left] > height[right]:\n",
    "            right -= 1\n",
    "        else:\n",
    "            left += 1\n",
    "    return max_area"
   ]
  },
  {
   "cell_type": "markdown",
   "metadata": {},
   "source": [
    "```\n",
    "+-------------+---------+\n",
    "| Column Name | Type    |\n",
    "+-------------+---------+\n",
    "| personId    | int     |\n",
    "| lastName    | varchar |\n",
    "| firstName   | varchar |\n",
    "+-------------+---------+\n",
    "```\n",
    "personId is the primary key (column with unique values) for this table.\n",
    "This table contains information about the ID of some persons and their first and last names.\n",
    "\n",
    "addressId is the primary key (column with unique values) for this table.\n",
    "Each row of this table contains information about the city and state of one person with ID = PersonId.\n",
    "```\n",
    "+-------------+---------+\n",
    "| Column Name | Type    |\n",
    "+-------------+---------+\n",
    "| addressId   | int     |\n",
    "| personId    | int     |\n",
    "| city        | varchar |\n",
    "| state       | varchar |\n",
    "+-------------+---------+\n",
    "```\n",
    "Write a solution to report the first name, last name, city, and state of each person in the Person table. If the address of a personId is not present in the Address table, report null instead.\n",
    "\n",
    "Return the result table in any order.\n"
   ]
  },
  {
   "cell_type": "code",
   "execution_count": null,
   "metadata": {},
   "outputs": [],
   "source": [
    "import pandas as pd\n",
    "\n",
    "# :: pandas.merge(left, right, how='inner', on=None, left_on=None, right_on=None, left_index=False, right_index=False, sort=False, suffixes=('_x', '_y'), copy=None, indicator=False, validate=None)[source]\n",
    "\n",
    "def combine_two_tables(person: pd.DataFrame, address: pd.DataFrame) -> pd.DataFrame:    \n",
    "    return pd.merge(person, address, how='left', on='personId')[['firstName', 'lastName', 'city', 'state']]\n",
    "\n",
    "def combine_two_tables(person: pd.DataFrame, address: pd.DataFrame) -> pd.DataFrame:\n",
    "    return person.merge(address, how='left', on='personId')[['firstName', 'lastName', 'city', 'state']]"
   ]
  },
  {
   "cell_type": "markdown",
   "metadata": {},
   "source": [
    "Given a string containing digits from 2-9 inclusive, return all possible letter combinations that the number could represent. Return the answer in any order.\n",
    "\n",
    "A mapping of digits to letters (just like on the telephone buttons) is given below. Note that 1 does not map to any letters."
   ]
  },
  {
   "cell_type": "code",
   "execution_count": null,
   "metadata": {},
   "outputs": [],
   "source": [
    "def letterCombinations(self, digits: str) -> List[str]:\n",
    "    \n",
    "    if len(digits) == 0:\n",
    "        return []\n",
    "    results = []\n",
    "    data = {\n",
    "        '2' : ['a', 'b', 'c'],\n",
    "        '3' : ['d', 'e', 'f'],\n",
    "        '4' : ['g', 'h', 'i'],\n",
    "        '5' : ['j', 'k', 'l'],\n",
    "        '6' : ['m', 'n', 'o'],\n",
    "        '7' : ['p', 'q', 'r', 's'],\n",
    "        '8' : ['t', 'u', 'v'],\n",
    "        '9' : ['w', 'x', 'y', 'z']\n",
    "    }\n",
    "\n",
    "    def backtrack(idx, combo):\n",
    "        if idx == len(digits):\n",
    "            results.append(combo)\n",
    "            return\n",
    "        for l in data[digits[idx]]:\n",
    "            backtrack(idx + 1, combo + l)\n",
    "    \n",
    "    backtrack(0, '')\n",
    "\n",
    "    return results"
   ]
  },
  {
   "cell_type": "markdown",
   "metadata": {},
   "source": [
    "Given a string s consisting of words and spaces, return the length of the last word in the string.\n",
    "\n",
    "A word is a maximal \n",
    "substring\n",
    " consisting of non-space characters only."
   ]
  },
  {
   "cell_type": "code",
   "execution_count": null,
   "metadata": {},
   "outputs": [],
   "source": [
    "def lengthOfLastWord(self, s: str) -> int:\n",
    "    words = s.strip().split(' ')\n",
    "    return len(words[-1])"
   ]
  },
  {
   "cell_type": "markdown",
   "metadata": {},
   "source": [
    "Given an integer x, return true if x is a palindrome, and false otherwise."
   ]
  },
  {
   "cell_type": "code",
   "execution_count": null,
   "metadata": {},
   "outputs": [],
   "source": [
    "def isPalindrome(self, x: int) -> bool:\n",
    "    s = list(str(x))\n",
    "    left = 0\n",
    "    right = len(s) - 1\n",
    "    \n",
    "    pal = True\n",
    "    while left <= right:\n",
    "        if s[left] != s[right]:\n",
    "            pal = False\n",
    "            break\n",
    "        left += 1\n",
    "        right -= 1\n",
    "    return pal"
   ]
  },
  {
   "cell_type": "markdown",
   "metadata": {},
   "source": [
    "Given an integer array nums and an integer val, remove all occurrences of val in nums in-place. The order of the elements may be changed. Then return the number of elements in nums which are not equal to val.\n",
    "\n",
    "Consider the number of elements in nums which are not equal to val be k, to get accepted, you need to do the following things:\n",
    "\n",
    "* Change the array nums such that the first k elements of nums contain the elements which are not equal to val. The remaining elements of nums are not important as well as the size of nums.\n",
    "* Return k."
   ]
  },
  {
   "cell_type": "code",
   "execution_count": null,
   "metadata": {},
   "outputs": [],
   "source": [
    "def removeElement(self, nums: List[int], val: int) -> int:\n",
    "    # :: This was my original solution which is more efficient\n",
    "    # :: I submitted this solution here: https://leetcode.com/problems/remove-element/solutions/5319640/efficient-python-solution-description/\n",
    "    val_cnt = 0\n",
    "    orig_len = len(nums)\n",
    "    for i in range(orig_len):\n",
    "        if nums[i-val_cnt] == val:\n",
    "            del nums[i-val_cnt]\n",
    "            val_cnt += 1\n",
    "    return (orig_len - val_cnt)\n",
    "\n",
    "def removeElement(self, nums: List[int], val: int) -> int:\n",
    "    index = 0\n",
    "    for i in range(len(nums)):\n",
    "        if nums[i] != val:\n",
    "            nums[index] = nums[i]\n",
    "            index += 1\n",
    "    return index"
   ]
  },
  {
   "cell_type": "code",
   "execution_count": null,
   "metadata": {},
   "outputs": [],
   "source": []
  }
 ],
 "metadata": {
  "kernelspec": {
   "display_name": "ca",
   "language": "python",
   "name": "python3"
  },
  "language_info": {
   "codemirror_mode": {
    "name": "ipython",
    "version": 3
   },
   "file_extension": ".py",
   "mimetype": "text/x-python",
   "name": "python",
   "nbconvert_exporter": "python",
   "pygments_lexer": "ipython3",
   "version": "3.1.-1"
  }
 },
 "nbformat": 4,
 "nbformat_minor": 2
}
