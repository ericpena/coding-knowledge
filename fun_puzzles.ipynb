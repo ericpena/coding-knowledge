{
 "cells": [
  {
   "cell_type": "markdown",
   "metadata": {},
   "source": [
    "If you wanted to filter a list of names so it only contained 'John' or 'Paul', this would be the wrong way to do it:"
   ]
  },
  {
   "cell_type": "code",
   "execution_count": 1,
   "metadata": {},
   "outputs": [
    {
     "name": "stdout",
     "output_type": "stream",
     "text": [
      "['John', 'Paul', 'Ringo']\n"
     ]
    }
   ],
   "source": [
    "names = ['John', 'Paul', 'George', 'Ringo']\n",
    "for name in names:\n",
    "    if name not in ['John', 'Paul']:\n",
    "        names.remove(name)\n",
    "print(names)"
   ]
  },
  {
   "cell_type": "markdown",
   "metadata": {},
   "source": [
    "Instead try `filter`"
   ]
  },
  {
   "cell_type": "code",
   "execution_count": 5,
   "metadata": {},
   "outputs": [
    {
     "name": "stdout",
     "output_type": "stream",
     "text": [
      "['John', 'Paul']\n"
     ]
    }
   ],
   "source": [
    "names = ['John', 'Paul', 'George', 'Ringo']\n",
    "print(list(filter(lambda x: x in ['John', 'Paul'], names)))"
   ]
  },
  {
   "cell_type": "markdown",
   "metadata": {},
   "source": [
    "Mutable and Immutable Types"
   ]
  },
  {
   "cell_type": "code",
   "execution_count": 16,
   "metadata": {},
   "outputs": [],
   "source": [
    "# :: immutable\n",
    "x = (1, 2)\n",
    "# x[0] = 3 # :: shows an error"
   ]
  },
  {
   "cell_type": "code",
   "execution_count": 18,
   "metadata": {},
   "outputs": [
    {
     "name": "stdout",
     "output_type": "stream",
     "text": [
      "(1, 2)\n"
     ]
    }
   ],
   "source": [
    "# :: x is not affected because a copy is created (using immutable types)\n",
    "x = (1, 2)\n",
    "y = x\n",
    "x = (1, 2, 3)\n",
    "print(y)"
   ]
  },
  {
   "cell_type": "code",
   "execution_count": 20,
   "metadata": {},
   "outputs": [
    {
     "name": "stdout",
     "output_type": "stream",
     "text": [
      "[100, 2]\n",
      "[100, 2]\n"
     ]
    }
   ],
   "source": [
    "# :: x is not affected because a copy is created (using mutable types -> list)\n",
    "x = [1, 2]\n",
    "y = x\n",
    "\n",
    "x[0] = 100\n",
    "\n",
    "print(x)\n",
    "print(y)"
   ]
  },
  {
   "cell_type": "code",
   "execution_count": 22,
   "metadata": {},
   "outputs": [
    {
     "name": "stdout",
     "output_type": "stream",
     "text": [
      "[2, 3, 4, 1, 34, 123, 321, 1]\n",
      "[1, 1, 2, 3, 4, 34, 123, 321]\n"
     ]
    }
   ],
   "source": [
    "def get_largest_numers(numbers, n):\n",
    "    numbers.sort()\n",
    "    \n",
    "    return numbers[-n]\n",
    "\n",
    "nums = [2, 3, 4, 1, 34, 123, 321, 1]\n",
    "\n",
    "print(nums)\n",
    "largest = get_largest_numers(nums, 2)\n",
    "print(nums)"
   ]
  },
  {
   "cell_type": "markdown",
   "metadata": {},
   "source": [
    "List Comprehensions"
   ]
  },
  {
   "cell_type": "code",
   "execution_count": null,
   "metadata": {},
   "outputs": [],
   "source": [
    "def complicated_function(x, y , z=None):\n",
    "    # z is optional\n",
    "    pass"
   ]
  },
  {
   "cell_type": "code",
   "execution_count": 24,
   "metadata": {},
   "outputs": [
    {
     "name": "stdout",
     "output_type": "stream",
     "text": [
      "1 2 3 4 5 6 7 8 9\n"
     ]
    }
   ],
   "source": [
    "def complicated_function(x, y , *args):\n",
    "    print(x, y, *args)\n",
    "\n",
    "complicated_function(1, 2, 3, 4, 5, 6, 7, 8, 9)"
   ]
  },
  {
   "cell_type": "code",
   "execution_count": 25,
   "metadata": {},
   "outputs": [
    {
     "name": "stdout",
     "output_type": "stream",
     "text": [
      "1 2 True False\n"
     ]
    }
   ],
   "source": [
    "def complicated_function(a, b, c=True, d=False):\n",
    "    print(a, b, c, d)\n",
    "\n",
    "complicated_function(*[1, 2], **{\"c\":True, \"d\":False}) # ** refers to kwargs"
   ]
  },
  {
   "cell_type": "markdown",
   "metadata": {},
   "source": [
    "GIL (Global Interpreter Lock): any thread that wants to executed needs to acquire the \"interpreter lock\". You can only execute one thread at the same time even if you have multiple CPU cores on your computer.\n",
    "\n",
    "* CPU typically will have multiple cores: 2, 4, 8 (each CPU core can execute one operation at a time)\n",
    "* **Multi-threading**:\n",
    "    * A thread is a component of your application that's being executed by the CPU\n",
    "    * Can be done in Python but we have the Global Interpreter Lock\n",
    "        * So even if we have mutliple threads, only one of these threads can be executed at a time because these threads to acquire something known as a lock on the interpreter\n",
    "        * This will not give you a performance boost in Python and won't increase the speed\n",
    "        * \n",
    "\n"
   ]
  },
  {
   "cell_type": "code",
   "execution_count": null,
   "metadata": {},
   "outputs": [],
   "source": []
  }
 ],
 "metadata": {
  "kernelspec": {
   "display_name": "ca",
   "language": "python",
   "name": "python3"
  },
  "language_info": {
   "codemirror_mode": {
    "name": "ipython",
    "version": 3
   },
   "file_extension": ".py",
   "mimetype": "text/x-python",
   "name": "python",
   "nbconvert_exporter": "python",
   "pygments_lexer": "ipython3",
   "version": "3.10.6"
  }
 },
 "nbformat": 4,
 "nbformat_minor": 2
}
