{
 "cells": [
  {
   "cell_type": "markdown",
   "metadata": {},
   "source": [
    "Assume you're given a table Twitter tweet data, write a query to obtain a histogram of tweets posted per user in 2022. Output the tweet count per user as the bucket and the number of Twitter users who fall into that bucket."
   ]
  },
  {
   "cell_type": "code",
   "execution_count": null,
   "metadata": {},
   "outputs": [],
   "source": [
    "SELECT tweet_count_per_user AS tweet_bucket, COUNT(user_id) users_num\n",
    "FROM\n",
    "  (SELECT user_id, COUNT(*) tweet_count_per_user\n",
    "  FROM tweets\n",
    "  WHERE to_char(tweet_date::DATE, 'YYYY') = '2022'\n",
    "  GROUP BY user_id) tweet_per_user\n",
    "GROUP BY 1\n",
    "\n",
    "\n",
    "SELECT \n",
    "  tweet_count_per_user AS tweet_bucket, \n",
    "  COUNT(user_id) AS users_num \n",
    "FROM (\n",
    "  SELECT \n",
    "    user_id, \n",
    "    COUNT(tweet_id) AS tweet_count_per_user \n",
    "  FROM tweets \n",
    "  WHERE tweet_date BETWEEN '2022-01-01' \n",
    "    AND '2022-12-31'\n",
    "  GROUP BY user_id) AS total_tweets \n",
    "GROUP BY tweet_count_per_user"
   ]
  },
  {
   "cell_type": "markdown",
   "metadata": {},
   "source": [
    "Given a table of candidates and their skills, you're tasked with finding the candidates best suited for an open Data Science job. You want to find candidates who are proficient in Python, Tableau, and PostgreSQL.\n",
    "\n",
    "Write a query to list the candidates who possess all of the required skills for the job. Sort the output by candidate ID in ascending order.\n",
    "\n",
    "Assumption:\n",
    "\n",
    "There are no duplicates in the candidates table:\n",
    "\n",
    "| Column Name  | Type    |\n",
    "| :----------- | :------ |\n",
    "| candidate_id | integer |\n",
    "| skill        | varchar |\n",
    "\n",
    "Example Input:\n",
    "\n",
    "| candidate_id | skill      |\n",
    "| :----------- | :--------- |\n",
    "| 123          | Python     |\n",
    "| 123          | Tableau    |\n",
    "| 123          | PostgreSQL |\n",
    "| 234          | R          |\n",
    "| 234          | PowerBI    |\n",
    "| 234          | SQL Server |\n",
    "| 345          | Python     |\n",
    "| 345          | Tableau    |\n"
   ]
  },
  {
   "cell_type": "code",
   "execution_count": null,
   "metadata": {},
   "outputs": [],
   "source": [
    "SELECT candidate_id\n",
    "FROM candidates\n",
    "GROUP BY candidate_id\n",
    "HAVING 'Python' = ANY(ARRAY_AGG(skill))\n",
    "AND 'Tableau' = ANY(ARRAY_AGG(skill))\n",
    "AND 'PostgreSQL' = ANY(ARRAY_AGG(skill))\n",
    "ORDER BY 1\n",
    "\n",
    "SELECT candidate_id\n",
    "FROM candidates\n",
    "WHERE skill IN ('Python', 'Tableau', 'PostgreSQL')\n",
    "GROUP BY candidate_id\n",
    "HAVING COUNT(*) = 3\n",
    "ORDER BY candidate_id"
   ]
  },
  {
   "cell_type": "markdown",
   "metadata": {},
   "source": [
    "Write a solution to find the second highest salary from the Employee table. If there is no second highest salary, return null (return None in Pandas)."
   ]
  },
  {
   "cell_type": "code",
   "execution_count": null,
   "metadata": {},
   "outputs": [],
   "source": [
    "WITH rankings AS (\n",
    "    SELECT salary, DENSE_RANK() OVER (ORDER BY salary DESC) rank_\n",
    "    FROM Employee\n",
    ")\n",
    "SELECT COALESCE(\n",
    "    (SELECT DISTINCT salary FROM rankings WHERE rank_ = 2), NULL) AS \"SecondHighestSalary\";\n",
    "\n",
    "\n",
    "SELECT COALESCE(\n",
    "    (\n",
    "    SELECT DISTINCT salary\n",
    "    FROM Employee\n",
    "    ORDER BY salary DESC\n",
    "    OFFSET 1 LIMIT 1),\n",
    "    NULL\n",
    ") AS \"SecondHighestSalary\"\n",
    "FROM Employee\n",
    "LIMIT 1\n",
    "\n",
    "\n",
    "SELECT MAX(salary) AS \"SecondHighestSalary\"\n",
    "FROM Employee\n",
    "WHERE salary < (SELECT MAX(salary) FROM Employee)"
   ]
  },
  {
   "cell_type": "code",
   "execution_count": null,
   "metadata": {},
   "outputs": [],
   "source": [
    "import pandas as pd\n",
    "\n",
    "def second_highest_salary(employee: pd.DataFrame) -> pd.DataFrame:\n",
    "    \n",
    "    salaries = employee['salary'].drop_duplicates()\n",
    "    salaries.sort_values(ascending=False, inplace=True)\n",
    "    return pd.DataFrame({'SecondHighestSalary' : [salaries.iloc[1] if salaries.shape[0] > 1 else None]})"
   ]
  },
  {
   "cell_type": "code",
   "execution_count": null,
   "metadata": {},
   "outputs": [],
   "source": []
  }
 ],
 "metadata": {
  "kernelspec": {
   "display_name": "ca",
   "language": "python",
   "name": "python3"
  },
  "language_info": {
   "name": "python",
   "version": "3.1.-1"
  }
 },
 "nbformat": 4,
 "nbformat_minor": 2
}
