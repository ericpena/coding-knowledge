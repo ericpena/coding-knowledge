{
 "cells": [
  {
   "cell_type": "markdown",
   "metadata": {},
   "source": [
    "Assume you're given a table Twitter tweet data, write a query to obtain a histogram of tweets posted per user in 2022. Output the tweet count per user as the bucket and the number of Twitter users who fall into that bucket."
   ]
  },
  {
   "cell_type": "code",
   "execution_count": null,
   "metadata": {},
   "outputs": [],
   "source": [
    "SELECT tweet_count_per_user AS tweet_bucket, COUNT(user_id) users_num\n",
    "FROM\n",
    "  (SELECT user_id, COUNT(*) tweet_count_per_user\n",
    "  FROM tweets\n",
    "  WHERE to_char(tweet_date::DATE, 'YYYY') = '2022'\n",
    "  GROUP BY user_id) tweet_per_user\n",
    "GROUP BY 1\n",
    "\n",
    "\n",
    "SELECT \n",
    "  tweet_count_per_user AS tweet_bucket, \n",
    "  COUNT(user_id) AS users_num \n",
    "FROM (\n",
    "  SELECT \n",
    "    user_id, \n",
    "    COUNT(tweet_id) AS tweet_count_per_user \n",
    "  FROM tweets \n",
    "  WHERE tweet_date BETWEEN '2022-01-01' \n",
    "    AND '2022-12-31'\n",
    "  GROUP BY user_id) AS total_tweets \n",
    "GROUP BY tweet_count_per_user"
   ]
  }
 ],
 "metadata": {
  "kernelspec": {
   "display_name": "ca",
   "language": "python",
   "name": "python3"
  },
  "language_info": {
   "name": "python",
   "version": "3.1.-1"
  }
 },
 "nbformat": 4,
 "nbformat_minor": 2
}
