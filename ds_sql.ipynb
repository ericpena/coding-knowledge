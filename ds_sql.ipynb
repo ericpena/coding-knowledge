{
 "cells": [
  {
   "cell_type": "markdown",
   "metadata": {},
   "source": [
    "Assume you're given a table Twitter tweet data, write a query to obtain a histogram of tweets posted per user in 2022. Output the tweet count per user as the bucket and the number of Twitter users who fall into that bucket."
   ]
  },
  {
   "cell_type": "code",
   "execution_count": null,
   "metadata": {},
   "outputs": [],
   "source": [
    "SELECT tweet_count_per_user AS tweet_bucket, COUNT(user_id) users_num\n",
    "FROM\n",
    "  (SELECT user_id, COUNT(*) tweet_count_per_user\n",
    "  FROM tweets\n",
    "  WHERE to_char(tweet_date::DATE, 'YYYY') = '2022'\n",
    "  GROUP BY user_id) tweet_per_user\n",
    "GROUP BY 1\n",
    "\n",
    "\n",
    "SELECT \n",
    "  tweet_count_per_user AS tweet_bucket, \n",
    "  COUNT(user_id) AS users_num \n",
    "FROM (\n",
    "  SELECT \n",
    "    user_id, \n",
    "    COUNT(tweet_id) AS tweet_count_per_user \n",
    "  FROM tweets \n",
    "  WHERE tweet_date BETWEEN '2022-01-01' \n",
    "    AND '2022-12-31'\n",
    "  GROUP BY user_id) AS total_tweets \n",
    "GROUP BY tweet_count_per_user"
   ]
  },
  {
   "cell_type": "markdown",
   "metadata": {},
   "source": [
    "Given a table of candidates and their skills, you're tasked with finding the candidates best suited for an open Data Science job. You want to find candidates who are proficient in Python, Tableau, and PostgreSQL.\n",
    "\n",
    "Write a query to list the candidates who possess all of the required skills for the job. Sort the output by candidate ID in ascending order.\n",
    "\n",
    "Assumption:\n",
    "\n",
    "There are no duplicates in the candidates table:\n",
    "\n",
    "| Column Name  | Type    |\n",
    "| :----------- | :------ |\n",
    "| candidate_id | integer |\n",
    "| skill        | varchar |\n",
    "\n",
    "Example Input:\n",
    "\n",
    "| candidate_id | skill      |\n",
    "| :----------- | :--------- |\n",
    "| 123          | Python     |\n",
    "| 123          | Tableau    |\n",
    "| 123          | PostgreSQL |\n",
    "| 234          | R          |\n",
    "| 234          | PowerBI    |\n",
    "| 234          | SQL Server |\n",
    "| 345          | Python     |\n",
    "| 345          | Tableau    |\n"
   ]
  },
  {
   "cell_type": "code",
   "execution_count": null,
   "metadata": {},
   "outputs": [],
   "source": [
    "SELECT candidate_id\n",
    "FROM candidates\n",
    "GROUP BY candidate_id\n",
    "HAVING 'Python' = ANY(ARRAY_AGG(skill))\n",
    "AND 'Tableau' = ANY(ARRAY_AGG(skill))\n",
    "AND 'PostgreSQL' = ANY(ARRAY_AGG(skill))\n",
    "ORDER BY 1\n",
    "\n",
    "SELECT candidate_id\n",
    "FROM candidates\n",
    "WHERE skill IN ('Python', 'Tableau', 'PostgreSQL')\n",
    "GROUP BY candidate_id\n",
    "HAVING COUNT(*) = 3\n",
    "ORDER BY candidate_id"
   ]
  },
  {
   "cell_type": "markdown",
   "metadata": {},
   "source": [
    "Write a solution to find the second highest salary from the Employee table. If there is no second highest salary, return null (return None in Pandas)."
   ]
  },
  {
   "cell_type": "code",
   "execution_count": null,
   "metadata": {},
   "outputs": [],
   "source": [
    "WITH rankings AS (\n",
    "    SELECT salary, DENSE_RANK() OVER (ORDER BY salary DESC) rank_\n",
    "    FROM Employee\n",
    ")\n",
    "SELECT COALESCE(\n",
    "    (SELECT DISTINCT salary FROM rankings WHERE rank_ = 2), NULL) AS \"SecondHighestSalary\";\n",
    "\n",
    "\n",
    "SELECT COALESCE(\n",
    "    (\n",
    "    SELECT DISTINCT salary\n",
    "    FROM Employee\n",
    "    ORDER BY salary DESC\n",
    "    OFFSET 1 LIMIT 1),\n",
    "    NULL\n",
    ") AS \"SecondHighestSalary\"\n",
    "FROM Employee\n",
    "LIMIT 1\n",
    "\n",
    "\n",
    "SELECT MAX(salary) AS \"SecondHighestSalary\"\n",
    "FROM Employee\n",
    "WHERE salary < (SELECT MAX(salary) FROM Employee)"
   ]
  },
  {
   "cell_type": "code",
   "execution_count": null,
   "metadata": {},
   "outputs": [],
   "source": [
    "import pandas as pd\n",
    "\n",
    "def second_highest_salary(employee: pd.DataFrame) -> pd.DataFrame:\n",
    "    \n",
    "    salaries = employee['salary'].drop_duplicates()\n",
    "    salaries.sort_values(ascending=False, inplace=True)\n",
    "    return pd.DataFrame({'SecondHighestSalary' : [salaries.iloc[1] if salaries.shape[0] > 1 else None]})"
   ]
  },
  {
   "cell_type": "markdown",
   "metadata": {},
   "source": [
    "Write a solution to find the nth highest salary from the Employee table. If there is no nth highest salary, return null.\n",
    "\n",
    "Input: \n",
    "Employee table:\n",
    "\n",
    "| id | salary |\n",
    "|----|--------|\n",
    "| 1  | 100    |\n",
    "| 2  | 200    |\n",
    "| 3  | 300    |\n",
    "\n",
    "n = 2\n",
    "Output: \n",
    "\n",
    "| getNthHighestSalary(2) |\n",
    "|------------------------|\n",
    "| 200                    |\n",
    "\n",
    "Example 2:\n",
    "\n",
    "Input: \n",
    "Employee table:\n",
    "\n",
    "| id | salary |\n",
    "|----|--------|\n",
    "| 1  | 100    |\n",
    "\n",
    "n = 2\n",
    "Output: \n",
    "\n",
    "| getNthHighestSalary(2) |\n",
    "|------------------------|\n",
    "| null                   |"
   ]
  },
  {
   "cell_type": "code",
   "execution_count": null,
   "metadata": {},
   "outputs": [],
   "source": [
    "CREATE OR REPLACE FUNCTION NthHighestSalary(N INT) RETURNS TABLE (Salary INT) AS $$\n",
    "BEGIN\n",
    "  RETURN QUERY (\n",
    "\n",
    "    WITH rankings AS (\n",
    "        SELECT e.salary, DENSE_RANK() OVER (ORDER BY e.salary DESC) rank_\n",
    "        FROM Employee e\n",
    "        ORDER BY e.salary DESC\n",
    "    )\n",
    "\n",
    "    SELECT COALESCE(\n",
    "        (SELECT r.salary\n",
    "        FROM rankings r\n",
    "        WHERE rank_ = N\n",
    "        LIMIT 1),\n",
    "        NULL\n",
    "    ) AS \"NthHighestSalary\"\n",
    "\n",
    "  );\n",
    "END;\n",
    "$$ LANGUAGE plpgsql;"
   ]
  },
  {
   "cell_type": "code",
   "execution_count": null,
   "metadata": {},
   "outputs": [],
   "source": [
    "import pandas as pd\n",
    "\n",
    "def nth_highest_salary(employee: pd.DataFrame, N: int) -> pd.DataFrame:\n",
    "\n",
    "    df = employee['salary'].drop_duplicates().sort_values(ignore_index=True, ascending=False)\n",
    "    if N <= 0:\n",
    "        return pd.DataFrame({f'getNthHighestSalary({N})':[None]})\n",
    "    else:\n",
    "        return pd.DataFrame({f'getNthHighestSalary({N})':[int(df.iloc[N-1]) if df.shape[0] >= N else None]})"
   ]
  },
  {
   "cell_type": "markdown",
   "metadata": {},
   "source": [
    "if we wanted `df` to actually be a DataFrame when defined. In the previous snippet, it immediately became a series."
   ]
  },
  {
   "cell_type": "code",
   "execution_count": null,
   "metadata": {},
   "outputs": [],
   "source": [
    "import pandas as pd\n",
    "\n",
    "def nth_highest_salary(employee: pd.DataFrame, N: int) -> pd.DataFrame:\n",
    "\n",
    "    df = employee[['salary']].drop_duplicates().sort_values(by='salary', ignore_index=True, ascending=False)\n",
    "    if N <= 0:\n",
    "        return pd.DataFrame({f'getNthHighestSalary({N})':[None]})\n",
    "    else:\n",
    "        return pd.DataFrame({f'getNthHighestSalary({N})':[int(df.iloc[N-1]) if df.shape[0] >= N else None]})"
   ]
  },
  {
   "cell_type": "markdown",
   "metadata": {},
   "source": [
    "Table: `Customers`\n",
    "\n",
    "| Column Name | Type    |\n",
    "|-------------|---------|\n",
    "| id          | int     |\n",
    "| name        | varchar |\n",
    "\n",
    "id is the primary key (column with unique values) for this table.\n",
    "Each row of this table indicates the ID and name of a customer.\n",
    " \n",
    "\n",
    "Table: `Orders`\n",
    "\n",
    "| Column Name | Type |\n",
    "|-------------|------|\n",
    "| id          | int  |\n",
    "| customerId  | int  |\n",
    "\n",
    "id is the primary key (column with unique values) for this table.\n",
    "customerId is a foreign key (reference columns) of the ID from the Customers table.\n",
    "Each row of this table indicates the ID of an order and the ID of the customer who ordered it.\n",
    " \n",
    "\n",
    "Write a solution to find all customers who never order anything.\n",
    "\n",
    "Return the result table in any order."
   ]
  },
  {
   "cell_type": "code",
   "execution_count": null,
   "metadata": {},
   "outputs": [],
   "source": [
    "SELECT name AS \"Customers\"\n",
    "FROM Customers\n",
    "WHERE id NOT IN (\n",
    "    SELECT DISTINCT Orders.customerId\n",
    "    FROM Orders\n",
    ")"
   ]
  },
  {
   "cell_type": "code",
   "execution_count": null,
   "metadata": {},
   "outputs": [],
   "source": [
    "def find_customers(customers: pd.DataFrame, orders: pd.DataFrame) -> pd.DataFrame:\n",
    "    buying_customers = list(orders['customerId'].drop_duplicates())\n",
    "    return pd.DataFrame({'Customers': [customers.loc[i, 'name'] for i in range(customers.shape[0]) if customers.loc[i, 'id'] not in buying_customers]})\n",
    "\n",
    "def find_customers(customers: pd.DataFrame, orders: pd.DataFrame) -> pd.DataFrame:\n",
    "    df = pd.merge(customers, orders, how='left', left_on='id', right_on='customerId')\n",
    "    return df[df['customerId'].isna()][['name']].rename(columns={'name':'Customers'})\n",
    "\n",
    "def find_customers(customers: pd.DataFrame, orders: pd.DataFrame) -> pd.DataFrame:\n",
    "    return customers[~customers.id.isin(orders.customerId)][['name']].rename(columns={'name':'Customers'})"
   ]
  },
  {
   "cell_type": "markdown",
   "metadata": {},
   "source": [
    "`reference`: https://datalemur.com/questions/time-spent-snaps?referralCode=NpkU8goA\n",
    "\n",
    "This is the same question as problem #25 in the SQL Chapter of Ace the Data Science Interview!\n",
    "\n",
    "Assume you're given tables with information on Snapchat users, including their ages and time spent sending and opening snaps.\n",
    "\n",
    "Write a query to obtain a breakdown of the time spent sending vs. opening snaps as a percentage of total time spent on these activities grouped by age group. Round the percentage to 2 decimal places in the output.\n",
    "\n",
    "**Notes:**\n",
    "\n",
    "* Calculate the following percentages:\n",
    "    * time spent sending / (Time spent sending + Time spent opening)\n",
    "    * Time spent opening / (Time spent sending + Time spent opening)\n",
    "* To avoid integer division in percentages, multiply by 100.0 and not 100."
   ]
  },
  {
   "cell_type": "code",
   "execution_count": null,
   "metadata": {},
   "outputs": [],
   "source": [
    "WITH agg_sum AS (\n",
    "  SELECT age_bucket, activity_type, SUM(time_spent) sum_time, SUM(SUM(time_spent)) OVER(PARTITION BY age_bucket) act_total\n",
    "  FROM activities JOIN age_breakdown USING (user_id)\n",
    "  WHERE activity_type IN ('send', 'open')\n",
    "  GROUP BY age_bucket, activity_type\n",
    ")\n",
    "SELECT *\n",
    "FROM\n",
    "\n",
    "(SELECT age_bucket, SUM(ROUND((sum_time / act_total)*100.0, 2)) send_perc\n",
    "FROM agg_sum\n",
    "WHERE activity_type = 'send'\n",
    "GROUP BY age_bucket) send_\n",
    "\n",
    "JOIN\n",
    "\n",
    "(SELECT age_bucket, SUM(ROUND((sum_time / act_total)*100.0, 2)) open_perc\n",
    "FROM agg_sum\n",
    "WHERE activity_type = 'open'\n",
    "GROUP BY age_bucket) open_\n",
    "\n",
    "USING (age_bucket)\n",
    "ORDER BY age_bucket"
   ]
  },
  {
   "cell_type": "markdown",
   "metadata": {},
   "source": [
    "`reference`: https://leetcode.com/problems/game-play-analysis-i/\n",
    "\n",
    "Return the result table in any order.\n",
    "\n",
    "The result format is in the following example.\n",
    "\n",
    " \n",
    "\n",
    "Example 1:\n",
    "\n",
    "Input: \n",
    "Activity table:\n",
    "\n",
    "| player_id | device_id | event_date | games_played |\n",
    "|-----------|-----------|------------|--------------|\n",
    "| 1         | 2         | 2016-03-01 | 5            |\n",
    "| 1         | 2         | 2016-05-02 | 6            |\n",
    "| 2         | 3         | 2017-06-25 | 1            |\n",
    "| 3         | 1         | 2016-03-02 | 0            |\n",
    "| 3         | 4         | 2018-07-03 | 5            |\n",
    "\n",
    "Output: \n",
    "\n",
    "| player_id | first_login |\n",
    "|-----------|-------------|\n",
    "| 1         | 2016-03-01  |\n",
    "| 2         | 2017-06-25  |\n",
    "| 3         | 2016-03-02  |\n"
   ]
  },
  {
   "cell_type": "code",
   "execution_count": null,
   "metadata": {},
   "outputs": [],
   "source": [
    "SELECT player_id, event_date AS first_login\n",
    "FROM\n",
    "    (SELECT player_id, event_date, ROW_NUMBER() OVER(PARTITION BY player_id ORDER BY event_date) row_\n",
    "    FROM Activity\n",
    "    ORDER BY player_id, event_date) act_rows\n",
    "WHERE row_ = 1"
   ]
  },
  {
   "cell_type": "code",
   "execution_count": null,
   "metadata": {},
   "outputs": [],
   "source": [
    "import pandas as pd\n",
    "\n",
    "def game_analysis(activity: pd.DataFrame) -> pd.DataFrame:\n",
    "    return activity[['player_id', 'event_date']].groupby(by='player_id', as_index=False).min().rename(columns={'event_date':'first_login'})"
   ]
  },
  {
   "cell_type": "markdown",
   "metadata": {},
   "source": [
    "`reference`: https://leetcode.com/problems/duplicate-emails/description/\n",
    "\n",
    "Write a solution to report all the duplicate emails. Note that it's guaranteed that the email field is not NULL.\n",
    "\n",
    "Return the result table in any order.\n",
    "\n",
    "The result format is in the following example.\n",
    "\n",
    "Example 1:\n",
    "\n",
    "Input: \n",
    "Person table:\n",
    "\n",
    "| id | email   |\n",
    "|----|---------|\n",
    "| 1  | a@b.com |\n",
    "| 2  | c@d.com |\n",
    "| 3  | a@b.com |\n",
    "\n",
    "Output: \n",
    "\n",
    "| Email   |\n",
    "|---------|\n",
    "| a@b.com |\n",
    "\n",
    "Explanation: a@b.com is repeated two times."
   ]
  },
  {
   "cell_type": "code",
   "execution_count": null,
   "metadata": {},
   "outputs": [],
   "source": [
    "import pandas as pd\n",
    "from collections import Counter\n",
    "\n",
    "def duplicate_emails(person: pd.DataFrame) -> pd.DataFrame:\n",
    "    count_dict = Counter(person['email'])\n",
    "    return pd.DataFrame({'Email': list(set([e for e, c in count_dict.items() if c > 1]))})\n",
    "\n",
    "def duplicate_emails(person: pd.DataFrame) -> pd.DataFrame:\n",
    "    count_dict = {}\n",
    "    for e in person['email']:\n",
    "        if e not in count_dict:\n",
    "            count_dict[e] = 1\n",
    "        else:\n",
    "            count_dict[e] += 1\n",
    "    return pd.DataFrame({'Email': list(set([e for e, c in count_dict.items() if c > 1]))})"
   ]
  },
  {
   "cell_type": "code",
   "execution_count": null,
   "metadata": {},
   "outputs": [],
   "source": [
    "SELECT DISTINCT email\n",
    "FROM Person\n",
    "GROUP BY email\n",
    "HAVING count(email) > 1"
   ]
  }
 ],
 "metadata": {
  "kernelspec": {
   "display_name": "ca",
   "language": "python",
   "name": "python3"
  },
  "language_info": {
   "name": "python",
   "version": "3.1.-1"
  }
 },
 "nbformat": 4,
 "nbformat_minor": 2
}
