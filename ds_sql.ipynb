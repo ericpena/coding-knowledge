{
 "cells": [
  {
   "cell_type": "markdown",
   "metadata": {},
   "source": [
    "Assume you're given a table Twitter tweet data, write a query to obtain a histogram of tweets posted per user in 2022. Output the tweet count per user as the bucket and the number of Twitter users who fall into that bucket."
   ]
  },
  {
   "cell_type": "code",
   "execution_count": null,
   "metadata": {},
   "outputs": [],
   "source": [
    "SELECT tweet_count_per_user AS tweet_bucket, COUNT(user_id) users_num\n",
    "FROM\n",
    "  (SELECT user_id, COUNT(*) tweet_count_per_user\n",
    "  FROM tweets\n",
    "  WHERE to_char(tweet_date::DATE, 'YYYY') = '2022'\n",
    "  GROUP BY user_id) tweet_per_user\n",
    "GROUP BY 1\n",
    "\n",
    "\n",
    "SELECT \n",
    "  tweet_count_per_user AS tweet_bucket, \n",
    "  COUNT(user_id) AS users_num \n",
    "FROM (\n",
    "  SELECT \n",
    "    user_id, \n",
    "    COUNT(tweet_id) AS tweet_count_per_user \n",
    "  FROM tweets \n",
    "  WHERE tweet_date BETWEEN '2022-01-01' \n",
    "    AND '2022-12-31'\n",
    "  GROUP BY user_id) AS total_tweets \n",
    "GROUP BY tweet_count_per_user"
   ]
  },
  {
   "cell_type": "markdown",
   "metadata": {},
   "source": [
    "Given a table of candidates and their skills, you're tasked with finding the candidates best suited for an open Data Science job. You want to find candidates who are proficient in Python, Tableau, and PostgreSQL.\n",
    "\n",
    "Write a query to list the candidates who possess all of the required skills for the job. Sort the output by candidate ID in ascending order.\n",
    "\n",
    "Assumption:\n",
    "\n",
    "There are no duplicates in the candidates table:\n",
    "\n",
    "| Column Name  | Type    |\n",
    "| :----------- | :------ |\n",
    "| candidate_id | integer |\n",
    "| skill        | varchar |\n",
    "\n",
    "Example Input:\n",
    "\n",
    "| candidate_id | skill      |\n",
    "| :----------- | :--------- |\n",
    "| 123          | Python     |\n",
    "| 123          | Tableau    |\n",
    "| 123          | PostgreSQL |\n",
    "| 234          | R          |\n",
    "| 234          | PowerBI    |\n",
    "| 234          | SQL Server |\n",
    "| 345          | Python     |\n",
    "| 345          | Tableau    |\n"
   ]
  },
  {
   "cell_type": "code",
   "execution_count": null,
   "metadata": {},
   "outputs": [],
   "source": [
    "SELECT candidate_id\n",
    "FROM candidates\n",
    "GROUP BY candidate_id\n",
    "HAVING 'Python' = ANY(ARRAY_AGG(skill))\n",
    "AND 'Tableau' = ANY(ARRAY_AGG(skill))\n",
    "AND 'PostgreSQL' = ANY(ARRAY_AGG(skill))\n",
    "ORDER BY 1\n",
    "\n",
    "SELECT candidate_id\n",
    "FROM candidates\n",
    "WHERE skill IN ('Python', 'Tableau', 'PostgreSQL')\n",
    "GROUP BY candidate_id\n",
    "HAVING COUNT(*) = 3\n",
    "ORDER BY candidate_id"
   ]
  },
  {
   "cell_type": "markdown",
   "metadata": {},
   "source": [
    "Write a solution to find the second highest salary from the Employee table. If there is no second highest salary, return null (return None in Pandas)."
   ]
  },
  {
   "cell_type": "code",
   "execution_count": null,
   "metadata": {},
   "outputs": [],
   "source": [
    "WITH rankings AS (\n",
    "    SELECT salary, DENSE_RANK() OVER (ORDER BY salary DESC) rank_\n",
    "    FROM Employee\n",
    ")\n",
    "SELECT COALESCE(\n",
    "    (SELECT DISTINCT salary FROM rankings WHERE rank_ = 2), NULL) AS \"SecondHighestSalary\";\n",
    "\n",
    "\n",
    "SELECT COALESCE(\n",
    "    (\n",
    "    SELECT DISTINCT salary\n",
    "    FROM Employee\n",
    "    ORDER BY salary DESC\n",
    "    OFFSET 1 LIMIT 1),\n",
    "    NULL\n",
    ") AS \"SecondHighestSalary\"\n",
    "FROM Employee\n",
    "LIMIT 1\n",
    "\n",
    "\n",
    "SELECT MAX(salary) AS \"SecondHighestSalary\"\n",
    "FROM Employee\n",
    "WHERE salary < (SELECT MAX(salary) FROM Employee)"
   ]
  },
  {
   "cell_type": "code",
   "execution_count": null,
   "metadata": {},
   "outputs": [],
   "source": [
    "import pandas as pd\n",
    "\n",
    "def second_highest_salary(employee: pd.DataFrame) -> pd.DataFrame:\n",
    "    \n",
    "    salaries = employee['salary'].drop_duplicates()\n",
    "    salaries.sort_values(ascending=False, inplace=True)\n",
    "    return pd.DataFrame({'SecondHighestSalary' : [salaries.iloc[1] if salaries.shape[0] > 1 else None]})"
   ]
  },
  {
   "cell_type": "markdown",
   "metadata": {},
   "source": [
    "Write a solution to find the nth highest salary from the Employee table. If there is no nth highest salary, return null.\n",
    "\n",
    "Input: \n",
    "Employee table:\n",
    "\n",
    "| id | salary |\n",
    "|----|--------|\n",
    "| 1  | 100    |\n",
    "| 2  | 200    |\n",
    "| 3  | 300    |\n",
    "\n",
    "n = 2\n",
    "Output: \n",
    "\n",
    "| getNthHighestSalary(2) |\n",
    "|------------------------|\n",
    "| 200                    |\n",
    "\n",
    "Example 2:\n",
    "\n",
    "Input: \n",
    "Employee table:\n",
    "\n",
    "| id | salary |\n",
    "|----|--------|\n",
    "| 1  | 100    |\n",
    "\n",
    "n = 2\n",
    "Output: \n",
    "\n",
    "| getNthHighestSalary(2) |\n",
    "|------------------------|\n",
    "| null                   |"
   ]
  },
  {
   "cell_type": "code",
   "execution_count": null,
   "metadata": {},
   "outputs": [],
   "source": [
    "CREATE OR REPLACE FUNCTION NthHighestSalary(N INT) RETURNS TABLE (Salary INT) AS $$\n",
    "BEGIN\n",
    "  RETURN QUERY (\n",
    "\n",
    "    WITH rankings AS (\n",
    "        SELECT e.salary, DENSE_RANK() OVER (ORDER BY e.salary DESC) rank_\n",
    "        FROM Employee e\n",
    "        ORDER BY e.salary DESC\n",
    "    )\n",
    "\n",
    "    SELECT COALESCE(\n",
    "        (SELECT r.salary\n",
    "        FROM rankings r\n",
    "        WHERE rank_ = N\n",
    "        LIMIT 1),\n",
    "        NULL\n",
    "    ) AS \"NthHighestSalary\"\n",
    "\n",
    "  );\n",
    "END;\n",
    "$$ LANGUAGE plpgsql;"
   ]
  },
  {
   "cell_type": "code",
   "execution_count": null,
   "metadata": {},
   "outputs": [],
   "source": [
    "import pandas as pd\n",
    "\n",
    "def nth_highest_salary(employee: pd.DataFrame, N: int) -> pd.DataFrame:\n",
    "\n",
    "    df = employee['salary'].drop_duplicates().sort_values(ignore_index=True, ascending=False)\n",
    "    if N <= 0:\n",
    "        return pd.DataFrame({f'getNthHighestSalary({N})':[None]})\n",
    "    else:\n",
    "        return pd.DataFrame({f'getNthHighestSalary({N})':[int(df.iloc[N-1]) if df.shape[0] >= N else None]})"
   ]
  },
  {
   "cell_type": "markdown",
   "metadata": {},
   "source": [
    "if we wanted `df` to actually be a DataFrame when defined. In the previous snippet, it immediately became a series."
   ]
  },
  {
   "cell_type": "code",
   "execution_count": null,
   "metadata": {},
   "outputs": [],
   "source": [
    "import pandas as pd\n",
    "\n",
    "def nth_highest_salary(employee: pd.DataFrame, N: int) -> pd.DataFrame:\n",
    "\n",
    "    df = employee[['salary']].drop_duplicates().sort_values(by='salary', ignore_index=True, ascending=False)\n",
    "    if N <= 0:\n",
    "        return pd.DataFrame({f'getNthHighestSalary({N})':[None]})\n",
    "    else:\n",
    "        return pd.DataFrame({f'getNthHighestSalary({N})':[int(df.iloc[N-1]) if df.shape[0] >= N else None]})"
   ]
  },
  {
   "cell_type": "markdown",
   "metadata": {},
   "source": [
    "Table: `Customers`\n",
    "\n",
    "| Column Name | Type    |\n",
    "|-------------|---------|\n",
    "| id          | int     |\n",
    "| name        | varchar |\n",
    "\n",
    "id is the primary key (column with unique values) for this table.\n",
    "Each row of this table indicates the ID and name of a customer.\n",
    " \n",
    "\n",
    "Table: `Orders`\n",
    "\n",
    "| Column Name | Type |\n",
    "|-------------|------|\n",
    "| id          | int  |\n",
    "| customerId  | int  |\n",
    "\n",
    "id is the primary key (column with unique values) for this table.\n",
    "customerId is a foreign key (reference columns) of the ID from the Customers table.\n",
    "Each row of this table indicates the ID of an order and the ID of the customer who ordered it.\n",
    " \n",
    "\n",
    "Write a solution to find all customers who never order anything.\n",
    "\n",
    "Return the result table in any order."
   ]
  },
  {
   "cell_type": "code",
   "execution_count": null,
   "metadata": {},
   "outputs": [],
   "source": [
    "SELECT name AS \"Customers\"\n",
    "FROM Customers\n",
    "WHERE id NOT IN (\n",
    "    SELECT DISTINCT Orders.customerId\n",
    "    FROM Orders\n",
    ")"
   ]
  },
  {
   "cell_type": "code",
   "execution_count": null,
   "metadata": {},
   "outputs": [],
   "source": [
    "def find_customers(customers: pd.DataFrame, orders: pd.DataFrame) -> pd.DataFrame:\n",
    "    buying_customers = list(orders['customerId'].drop_duplicates())\n",
    "    return pd.DataFrame({'Customers': [customers.loc[i, 'name'] for i in range(customers.shape[0]) if customers.loc[i, 'id'] not in buying_customers]})\n",
    "\n",
    "def find_customers(customers: pd.DataFrame, orders: pd.DataFrame) -> pd.DataFrame:\n",
    "    df = pd.merge(customers, orders, how='left', left_on='id', right_on='customerId')\n",
    "    return df[df['customerId'].isna()][['name']].rename(columns={'name':'Customers'})\n",
    "\n",
    "def find_customers(customers: pd.DataFrame, orders: pd.DataFrame) -> pd.DataFrame:\n",
    "    return customers[~customers.id.isin(orders.customerId)][['name']].rename(columns={'name':'Customers'})"
   ]
  }
 ],
 "metadata": {
  "kernelspec": {
   "display_name": "ca",
   "language": "python",
   "name": "python3"
  },
  "language_info": {
   "name": "python",
   "version": "3.1.-1"
  }
 },
 "nbformat": 4,
 "nbformat_minor": 2
}
